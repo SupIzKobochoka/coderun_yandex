{
  "nbformat": 4,
  "nbformat_minor": 0,
  "metadata": {
    "colab": {
      "provenance": []
    },
    "kernelspec": {
      "name": "python3",
      "display_name": "Python 3"
    },
    "language_info": {
      "name": "python"
    }
  },
  "cells": [
    {
      "cell_type": "code",
      "source": [
        "import sys\n",
        "import numpy as np\n",
        "import threading\n",
        "\n",
        "# Застревает на 89 тесте из-за времени, как соптимизировать дальше не знаю :(\n",
        "\n",
        "def main():\n",
        "    nums = np.array([list(map(int, input().split())) for i in range(int(input()))])\n",
        "    nums = nums[nums[:, 0].argsort()]\n",
        "    x = nums[:,0]\n",
        "    y = nums[:,1]\n",
        "\n",
        "    len_nums = len(y)\n",
        "    cumsum = y.cumsum()\n",
        "    sq_sum = np.power(y, 2).sum()\n",
        "\n",
        "    min_err = sq_sum - np.power(cumsum[-1], 2) / len_nums\n",
        "    best_params = [0, cumsum[-1] / len_nums, x[0]]\n",
        "\n",
        "    for i in range(len_nums - 1):\n",
        "\n",
        "        if x[i + 1] != x[i]:\n",
        "\n",
        "            left_mean_sq = np.power(cumsum[i], 2) / (i + 1)\n",
        "            right_mean_sq = np.power(cumsum[-1] - cumsum[i], 2) / (len_nums - i - 1)\n",
        "\n",
        "            err = sq_sum - left_mean_sq - right_mean_sq\n",
        "\n",
        "            if err < min_err:\n",
        "\n",
        "                min_err = err\n",
        "                best_params = [cumsum[i] / (i + 1), (cumsum[-1] - cumsum[i]) / (len_nums - i - 1), x[i + 1]]\n",
        "\n",
        "    print(*[f\"{number:.6f}\"  for number in best_params], sep=' ')\n",
        "\n",
        "if __name__ == '__main__':\n",
        "    main()"
      ],
      "metadata": {
        "id": "VOqKjbsmoYnF"
      },
      "execution_count": null,
      "outputs": []
    }
  ]
}