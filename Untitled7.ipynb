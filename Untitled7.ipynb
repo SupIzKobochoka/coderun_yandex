{
  "nbformat": 4,
  "nbformat_minor": 0,
  "metadata": {
    "colab": {
      "provenance": []
    },
    "kernelspec": {
      "name": "python3",
      "display_name": "Python 3"
    },
    "language_info": {
      "name": "python"
    }
  },
  "cells": [
    {
      "cell_type": "code",
      "source": [
        "import sys\n",
        "import numpy as np\n",
        "import threading\n",
        "\n",
        "min_err = None\n",
        "best_params = None\n",
        "\n",
        "def main():\n",
        "\n",
        "    global min_err\n",
        "    global best_params\n",
        "\n",
        "    nums = np.array([list(map(int, input().split())) for i in range(int(input()))])\n",
        "    nums = nums[nums[:, 0].argsort()]\n",
        "    x = nums[:,0]\n",
        "    y = nums[:,1]\n",
        "\n",
        "    len_nums = len(y)\n",
        "    cumsum = y.cumsum()\n",
        "    sq_sum = np.power(y, 2).sum()\n",
        "\n",
        "    min_err = sq_sum - np.power(cumsum[-1], 2) / len_nums\n",
        "    best_params = [0, cumsum[-1] / len_nums, x[0]]\n",
        "\n",
        "    def do_smth(x, cumsum, sq_sum, len_nums, ind_start, ind_end):\n",
        "\n",
        "        global min_err\n",
        "        global best_params\n",
        "\n",
        "        for i in range(ind_start, ind_end - 1):\n",
        "            if x[i + 1] != x[i]:\n",
        "                left_mean_sq = np.power(cumsum[i], 2) / (i + 1)\n",
        "                right_mean_sq = np.power(cumsum[-1] - cumsum[i], 2) / (len_nums - i - 1)\n",
        "\n",
        "                err = sq_sum - left_mean_sq - right_mean_sq\n",
        "\n",
        "                if err < min_err:\n",
        "\n",
        "                    min_err = err\n",
        "                    best_params = [cumsum[i] / (i + 1), (cumsum[-1] - cumsum[i]) / (len_nums - i - 1), x[i + 1]]\n",
        "\n",
        "\n",
        "    t1 = threading.Thread(target=do_smth, args=(x, cumsum, sq_sum, len_nums, 0, int(len_nums / 2)))\n",
        "    t2 = threading.Thread(target=do_smth, args=(x, cumsum, sq_sum, len_nums, int(len_nums / 2) - 1, len_nums))\n",
        "\n",
        "    t1.start()\n",
        "    t2.start()\n",
        "\n",
        "    t1.join()\n",
        "    t2.join()\n",
        "\n",
        "    print(*[f\"{number:.6f}\"  for number in best_params], sep=' ')\n",
        "\n",
        "if __name__ == '__main__':\n",
        "    main()"
      ],
      "metadata": {
        "id": "BHbAtCqwm6E5"
      },
      "execution_count": null,
      "outputs": []
    }
  ]
}