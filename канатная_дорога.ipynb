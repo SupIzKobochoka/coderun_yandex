{
  "nbformat": 4,
  "nbformat_minor": 0,
  "metadata": {
    "colab": {
      "provenance": []
    },
    "kernelspec": {
      "name": "python3",
      "display_name": "Python 3"
    },
    "language_info": {
      "name": "python"
    }
  },
  "cells": [
    {
      "cell_type": "code",
      "source": [
        "# Проходимся последовательно по всем вершинам и добавляем расстояние до следующей,\n",
        "# Добавялем в vertexes те, которые не соеденены с более высокой вершиной,\n",
        "# Далее для каждой вершины проверяем, может ли она соедениться с предыдущей самой низкой вериной, если да, то соеденяем и повторяем\n",
        "# Оптимизацию дальше вижу только в переходе на C++ и в многопоточности, ни то, ни то не получится)"
      ],
      "metadata": {
        "id": "m8MF_SFR5eHL"
      },
      "execution_count": null,
      "outputs": []
    },
    {
      "cell_type": "code",
      "source": [
        "import numpy as np\n",
        "\n",
        "nums = np.array([list(map(int, input().split())) for i in range(int(input()))])\n",
        "\n",
        "len_num = len(nums)\n",
        "dist = np.sqrt(np.power(nums[0,:], 2).sum())\n",
        "vertexes = [[0, np.Inf]]\n",
        "for i in range(0, len_num - 1):\n",
        "  current_coord = nums[i,:]\n",
        "  dist += np.sqrt(np.power(current_coord - nums[i + 1,:], 2).sum())\n",
        "  while vertexes[-1][1] <= current_coord[1]:\n",
        "    dist += np.sqrt(np.power(current_coord - vertexes.pop(-1), 2).sum())\n",
        "  if nums[i + 1, 1] < current_coord[1]:\n",
        "    vertexes.append(nums[i,:])\n",
        "\n",
        "current_coord = nums[len_num - 1,:]\n",
        "while vertexes[-1][1] <= current_coord[1]:\n",
        "  dist += np.sqrt(np.power(current_coord - vertexes.pop(-1), 2).sum())\n",
        "print(dist)"
      ],
      "metadata": {
        "colab": {
          "base_uri": "https://localhost:8080/"
        },
        "id": "9Vi0iMvheTSM",
        "outputId": "304d80b8-c958-4243-ddbd-e21226b6d57a"
      },
      "execution_count": 173,
      "outputs": [
        {
          "output_type": "stream",
          "name": "stdout",
          "text": [
            "2\n",
            "poslednaya\n"
          ]
        }
      ]
    }
  ]
}